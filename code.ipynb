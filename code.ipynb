{
  "nbformat": 4,
  "nbformat_minor": 0,
  "metadata": {
    "colab": {
      "provenance": []
    },
    "kernelspec": {
      "name": "python3",
      "display_name": "Python 3"
    },
    "language_info": {
      "name": "python"
    }
  },
  "cells": [
    {
      "cell_type": "markdown",
      "source": [
        "\n",
        "\n",
        "### 📌 **Adult Income Dataset – Summary**\n",
        "\n",
        "- **Goal**: Predict if a person earns **> $50K or ≤ $50K/year**.\n",
        "- **Source**: UCI Machine Learning Repository.\n",
        "- **Type**: Supervised binary classification.\n",
        "- **Target Variable**:  \n",
        "  - `income`: `>50K` or `<=50K`.\n",
        "\n",
        "\n",
        "\n",
        "### 🔑 **Key Features**:\n",
        "- **Numerical**: `age`, `fnlwgt`, `education-num`, `capital-gain`, `capital-loss`, `hours-per-week`.\n",
        "- **Categorical**: `workclass`, `education`, `marital-status`, `occupation`, `relationship`, `race`, `sex`, `native-country`.\n",
        "\n"
      ],
      "metadata": {
        "id": "fuaYzdX3a8uZ"
      }
    },
    {
      "cell_type": "markdown",
      "source": [
        "# 1. Install & Import Required Libraries"
      ],
      "metadata": {
        "id": "nvdF4WOMZtoh"
      }
    },
    {
      "cell_type": "code",
      "source": [
        "# Install H2O\n",
        "!pip install -f https://h2o-release.s3.amazonaws.com/h2o/latest_stable_Py.html h2o\n",
        "\n",
        "# Import libraries\n",
        "import h2o\n",
        "from h2o.estimators import (\n",
        "    H2ORandomForestEstimator,\n",
        "    H2OGradientBoostingEstimator,\n",
        "    H2ODeepLearningEstimator,\n",
        "    H2OGeneralizedLinearEstimator\n",
        ")\n",
        "import matplotlib.pyplot as plt\n",
        "from google.colab import files\n"
      ],
      "metadata": {
        "colab": {
          "base_uri": "https://localhost:8080/"
        },
        "id": "0qXnY26UZwbN",
        "outputId": "9467db6d-0835-4f2d-a182-b8c9093b34e1"
      },
      "execution_count": 1,
      "outputs": [
        {
          "output_type": "stream",
          "name": "stdout",
          "text": [
            "Looking in links: https://h2o-release.s3.amazonaws.com/h2o/latest_stable_Py.html\n",
            "Collecting h2o\n",
            "  Downloading h2o-3.46.0.7-py2.py3-none-any.whl.metadata (2.1 kB)\n",
            "Requirement already satisfied: requests in /usr/local/lib/python3.11/dist-packages (from h2o) (2.32.3)\n",
            "Requirement already satisfied: tabulate in /usr/local/lib/python3.11/dist-packages (from h2o) (0.9.0)\n",
            "Requirement already satisfied: charset-normalizer<4,>=2 in /usr/local/lib/python3.11/dist-packages (from requests->h2o) (3.4.1)\n",
            "Requirement already satisfied: idna<4,>=2.5 in /usr/local/lib/python3.11/dist-packages (from requests->h2o) (3.10)\n",
            "Requirement already satisfied: urllib3<3,>=1.21.1 in /usr/local/lib/python3.11/dist-packages (from requests->h2o) (2.3.0)\n",
            "Requirement already satisfied: certifi>=2017.4.17 in /usr/local/lib/python3.11/dist-packages (from requests->h2o) (2025.1.31)\n",
            "Downloading h2o-3.46.0.7-py2.py3-none-any.whl (265.9 MB)\n",
            "\u001b[2K   \u001b[90m━━━━━━━━━━━━━━━━━━━━━━━━━━━━━━━━━━━━━━━━\u001b[0m \u001b[32m265.9/265.9 MB\u001b[0m \u001b[31m4.4 MB/s\u001b[0m eta \u001b[36m0:00:00\u001b[0m\n",
            "\u001b[?25hInstalling collected packages: h2o\n",
            "Successfully installed h2o-3.46.0.7\n"
          ]
        }
      ]
    },
    {
      "cell_type": "markdown",
      "source": [
        "# 2. Initialize H2O and Upload Dataset"
      ],
      "metadata": {
        "id": "1pXSmO3TZ1JS"
      }
    },
    {
      "cell_type": "code",
      "source": [
        "# Initialize H2O\n",
        "h2o.init()\n",
        "\n",
        "# Upload the dataset\n",
        "uploaded = files.upload()\n",
        "filename = list(uploaded.keys())[0]\n",
        "\n",
        "# Import data into H2O\n",
        "data = h2o.import_file(filename)\n",
        "\n",
        "# Print column names\n",
        "print(\"Columns:\", data.columns)\n"
      ],
      "metadata": {
        "colab": {
          "base_uri": "https://localhost:8080/",
          "height": 628
        },
        "id": "wc6Y3BdwZyqP",
        "outputId": "980c3f16-916f-44a4-aed1-70c4c82f107e"
      },
      "execution_count": 2,
      "outputs": [
        {
          "output_type": "stream",
          "name": "stdout",
          "text": [
            "Checking whether there is an H2O instance running at http://localhost:54321..... not found.\n",
            "Attempting to start a local H2O server...\n",
            "  Java Version: openjdk version \"11.0.26\" 2025-01-21; OpenJDK Runtime Environment (build 11.0.26+4-post-Ubuntu-1ubuntu122.04); OpenJDK 64-Bit Server VM (build 11.0.26+4-post-Ubuntu-1ubuntu122.04, mixed mode, sharing)\n",
            "  Starting server from /usr/local/lib/python3.11/dist-packages/h2o/backend/bin/h2o.jar\n",
            "  Ice root: /tmp/tmpzbuhayeu\n",
            "  JVM stdout: /tmp/tmpzbuhayeu/h2o_unknownUser_started_from_python.out\n",
            "  JVM stderr: /tmp/tmpzbuhayeu/h2o_unknownUser_started_from_python.err\n",
            "  Server is running at http://127.0.0.1:54321\n",
            "Connecting to H2O server at http://127.0.0.1:54321 ... successful.\n"
          ]
        },
        {
          "output_type": "display_data",
          "data": {
            "text/plain": [
              "--------------------------  -----------------------------------------------------------------------------------------\n",
              "H2O_cluster_uptime:         03 secs\n",
              "H2O_cluster_timezone:       Etc/UTC\n",
              "H2O_data_parsing_timezone:  UTC\n",
              "H2O_cluster_version:        3.46.0.7\n",
              "H2O_cluster_version_age:    11 days\n",
              "H2O_cluster_name:           H2O_from_python_unknownUser_ssxiao\n",
              "H2O_cluster_total_nodes:    1\n",
              "H2O_cluster_free_memory:    3.170 Gb\n",
              "H2O_cluster_total_cores:    2\n",
              "H2O_cluster_allowed_cores:  2\n",
              "H2O_cluster_status:         locked, healthy\n",
              "H2O_connection_url:         http://127.0.0.1:54321\n",
              "H2O_connection_proxy:       {\"http\": null, \"https\": null, \"colab_language_server\": \"/usr/colab/bin/language_service\"}\n",
              "H2O_internal_security:      False\n",
              "Python_version:             3.11.11 final\n",
              "--------------------------  -----------------------------------------------------------------------------------------"
            ],
            "text/html": [
              "\n",
              "<style>\n",
              "\n",
              "#h2o-table-1.h2o-container {\n",
              "  overflow-x: auto;\n",
              "}\n",
              "#h2o-table-1 .h2o-table {\n",
              "  /* width: 100%; */\n",
              "  margin-top: 1em;\n",
              "  margin-bottom: 1em;\n",
              "}\n",
              "#h2o-table-1 .h2o-table caption {\n",
              "  white-space: nowrap;\n",
              "  caption-side: top;\n",
              "  text-align: left;\n",
              "  /* margin-left: 1em; */\n",
              "  margin: 0;\n",
              "  font-size: larger;\n",
              "}\n",
              "#h2o-table-1 .h2o-table thead {\n",
              "  white-space: nowrap; \n",
              "  position: sticky;\n",
              "  top: 0;\n",
              "  box-shadow: 0 -1px inset;\n",
              "}\n",
              "#h2o-table-1 .h2o-table tbody {\n",
              "  overflow: auto;\n",
              "}\n",
              "#h2o-table-1 .h2o-table th,\n",
              "#h2o-table-1 .h2o-table td {\n",
              "  text-align: right;\n",
              "  /* border: 1px solid; */\n",
              "}\n",
              "#h2o-table-1 .h2o-table tr:nth-child(even) {\n",
              "  /* background: #F5F5F5 */\n",
              "}\n",
              "\n",
              "</style>      \n",
              "<div id=\"h2o-table-1\" class=\"h2o-container\">\n",
              "  <table class=\"h2o-table\">\n",
              "    <caption></caption>\n",
              "    <thead></thead>\n",
              "    <tbody><tr><td>H2O_cluster_uptime:</td>\n",
              "<td>03 secs</td></tr>\n",
              "<tr><td>H2O_cluster_timezone:</td>\n",
              "<td>Etc/UTC</td></tr>\n",
              "<tr><td>H2O_data_parsing_timezone:</td>\n",
              "<td>UTC</td></tr>\n",
              "<tr><td>H2O_cluster_version:</td>\n",
              "<td>3.46.0.7</td></tr>\n",
              "<tr><td>H2O_cluster_version_age:</td>\n",
              "<td>11 days</td></tr>\n",
              "<tr><td>H2O_cluster_name:</td>\n",
              "<td>H2O_from_python_unknownUser_ssxiao</td></tr>\n",
              "<tr><td>H2O_cluster_total_nodes:</td>\n",
              "<td>1</td></tr>\n",
              "<tr><td>H2O_cluster_free_memory:</td>\n",
              "<td>3.170 Gb</td></tr>\n",
              "<tr><td>H2O_cluster_total_cores:</td>\n",
              "<td>2</td></tr>\n",
              "<tr><td>H2O_cluster_allowed_cores:</td>\n",
              "<td>2</td></tr>\n",
              "<tr><td>H2O_cluster_status:</td>\n",
              "<td>locked, healthy</td></tr>\n",
              "<tr><td>H2O_connection_url:</td>\n",
              "<td>http://127.0.0.1:54321</td></tr>\n",
              "<tr><td>H2O_connection_proxy:</td>\n",
              "<td>{\"http\": null, \"https\": null, \"colab_language_server\": \"/usr/colab/bin/language_service\"}</td></tr>\n",
              "<tr><td>H2O_internal_security:</td>\n",
              "<td>False</td></tr>\n",
              "<tr><td>Python_version:</td>\n",
              "<td>3.11.11 final</td></tr></tbody>\n",
              "  </table>\n",
              "</div>\n"
            ]
          },
          "metadata": {}
        },
        {
          "output_type": "display_data",
          "data": {
            "text/plain": [
              "<IPython.core.display.HTML object>"
            ],
            "text/html": [
              "\n",
              "     <input type=\"file\" id=\"files-5522a921-a8be-48e5-9b57-6502e4c2a3e4\" name=\"files[]\" multiple disabled\n",
              "        style=\"border:none\" />\n",
              "     <output id=\"result-5522a921-a8be-48e5-9b57-6502e4c2a3e4\">\n",
              "      Upload widget is only available when the cell has been executed in the\n",
              "      current browser session. Please rerun this cell to enable.\n",
              "      </output>\n",
              "      <script>// Copyright 2017 Google LLC\n",
              "//\n",
              "// Licensed under the Apache License, Version 2.0 (the \"License\");\n",
              "// you may not use this file except in compliance with the License.\n",
              "// You may obtain a copy of the License at\n",
              "//\n",
              "//      http://www.apache.org/licenses/LICENSE-2.0\n",
              "//\n",
              "// Unless required by applicable law or agreed to in writing, software\n",
              "// distributed under the License is distributed on an \"AS IS\" BASIS,\n",
              "// WITHOUT WARRANTIES OR CONDITIONS OF ANY KIND, either express or implied.\n",
              "// See the License for the specific language governing permissions and\n",
              "// limitations under the License.\n",
              "\n",
              "/**\n",
              " * @fileoverview Helpers for google.colab Python module.\n",
              " */\n",
              "(function(scope) {\n",
              "function span(text, styleAttributes = {}) {\n",
              "  const element = document.createElement('span');\n",
              "  element.textContent = text;\n",
              "  for (const key of Object.keys(styleAttributes)) {\n",
              "    element.style[key] = styleAttributes[key];\n",
              "  }\n",
              "  return element;\n",
              "}\n",
              "\n",
              "// Max number of bytes which will be uploaded at a time.\n",
              "const MAX_PAYLOAD_SIZE = 100 * 1024;\n",
              "\n",
              "function _uploadFiles(inputId, outputId) {\n",
              "  const steps = uploadFilesStep(inputId, outputId);\n",
              "  const outputElement = document.getElementById(outputId);\n",
              "  // Cache steps on the outputElement to make it available for the next call\n",
              "  // to uploadFilesContinue from Python.\n",
              "  outputElement.steps = steps;\n",
              "\n",
              "  return _uploadFilesContinue(outputId);\n",
              "}\n",
              "\n",
              "// This is roughly an async generator (not supported in the browser yet),\n",
              "// where there are multiple asynchronous steps and the Python side is going\n",
              "// to poll for completion of each step.\n",
              "// This uses a Promise to block the python side on completion of each step,\n",
              "// then passes the result of the previous step as the input to the next step.\n",
              "function _uploadFilesContinue(outputId) {\n",
              "  const outputElement = document.getElementById(outputId);\n",
              "  const steps = outputElement.steps;\n",
              "\n",
              "  const next = steps.next(outputElement.lastPromiseValue);\n",
              "  return Promise.resolve(next.value.promise).then((value) => {\n",
              "    // Cache the last promise value to make it available to the next\n",
              "    // step of the generator.\n",
              "    outputElement.lastPromiseValue = value;\n",
              "    return next.value.response;\n",
              "  });\n",
              "}\n",
              "\n",
              "/**\n",
              " * Generator function which is called between each async step of the upload\n",
              " * process.\n",
              " * @param {string} inputId Element ID of the input file picker element.\n",
              " * @param {string} outputId Element ID of the output display.\n",
              " * @return {!Iterable<!Object>} Iterable of next steps.\n",
              " */\n",
              "function* uploadFilesStep(inputId, outputId) {\n",
              "  const inputElement = document.getElementById(inputId);\n",
              "  inputElement.disabled = false;\n",
              "\n",
              "  const outputElement = document.getElementById(outputId);\n",
              "  outputElement.innerHTML = '';\n",
              "\n",
              "  const pickedPromise = new Promise((resolve) => {\n",
              "    inputElement.addEventListener('change', (e) => {\n",
              "      resolve(e.target.files);\n",
              "    });\n",
              "  });\n",
              "\n",
              "  const cancel = document.createElement('button');\n",
              "  inputElement.parentElement.appendChild(cancel);\n",
              "  cancel.textContent = 'Cancel upload';\n",
              "  const cancelPromise = new Promise((resolve) => {\n",
              "    cancel.onclick = () => {\n",
              "      resolve(null);\n",
              "    };\n",
              "  });\n",
              "\n",
              "  // Wait for the user to pick the files.\n",
              "  const files = yield {\n",
              "    promise: Promise.race([pickedPromise, cancelPromise]),\n",
              "    response: {\n",
              "      action: 'starting',\n",
              "    }\n",
              "  };\n",
              "\n",
              "  cancel.remove();\n",
              "\n",
              "  // Disable the input element since further picks are not allowed.\n",
              "  inputElement.disabled = true;\n",
              "\n",
              "  if (!files) {\n",
              "    return {\n",
              "      response: {\n",
              "        action: 'complete',\n",
              "      }\n",
              "    };\n",
              "  }\n",
              "\n",
              "  for (const file of files) {\n",
              "    const li = document.createElement('li');\n",
              "    li.append(span(file.name, {fontWeight: 'bold'}));\n",
              "    li.append(span(\n",
              "        `(${file.type || 'n/a'}) - ${file.size} bytes, ` +\n",
              "        `last modified: ${\n",
              "            file.lastModifiedDate ? file.lastModifiedDate.toLocaleDateString() :\n",
              "                                    'n/a'} - `));\n",
              "    const percent = span('0% done');\n",
              "    li.appendChild(percent);\n",
              "\n",
              "    outputElement.appendChild(li);\n",
              "\n",
              "    const fileDataPromise = new Promise((resolve) => {\n",
              "      const reader = new FileReader();\n",
              "      reader.onload = (e) => {\n",
              "        resolve(e.target.result);\n",
              "      };\n",
              "      reader.readAsArrayBuffer(file);\n",
              "    });\n",
              "    // Wait for the data to be ready.\n",
              "    let fileData = yield {\n",
              "      promise: fileDataPromise,\n",
              "      response: {\n",
              "        action: 'continue',\n",
              "      }\n",
              "    };\n",
              "\n",
              "    // Use a chunked sending to avoid message size limits. See b/62115660.\n",
              "    let position = 0;\n",
              "    do {\n",
              "      const length = Math.min(fileData.byteLength - position, MAX_PAYLOAD_SIZE);\n",
              "      const chunk = new Uint8Array(fileData, position, length);\n",
              "      position += length;\n",
              "\n",
              "      const base64 = btoa(String.fromCharCode.apply(null, chunk));\n",
              "      yield {\n",
              "        response: {\n",
              "          action: 'append',\n",
              "          file: file.name,\n",
              "          data: base64,\n",
              "        },\n",
              "      };\n",
              "\n",
              "      let percentDone = fileData.byteLength === 0 ?\n",
              "          100 :\n",
              "          Math.round((position / fileData.byteLength) * 100);\n",
              "      percent.textContent = `${percentDone}% done`;\n",
              "\n",
              "    } while (position < fileData.byteLength);\n",
              "  }\n",
              "\n",
              "  // All done.\n",
              "  yield {\n",
              "    response: {\n",
              "      action: 'complete',\n",
              "    }\n",
              "  };\n",
              "}\n",
              "\n",
              "scope.google = scope.google || {};\n",
              "scope.google.colab = scope.google.colab || {};\n",
              "scope.google.colab._files = {\n",
              "  _uploadFiles,\n",
              "  _uploadFilesContinue,\n",
              "};\n",
              "})(self);\n",
              "</script> "
            ]
          },
          "metadata": {}
        },
        {
          "output_type": "stream",
          "name": "stdout",
          "text": [
            "Saving adult.csv to adult.csv\n",
            "Parse progress: |████████████████████████████████████████████████████████████████| (done) 100%\n",
            "Columns: ['age', 'workclass', 'fnlwgt', 'education', 'educational-num', 'marital-status', 'occupation', 'relationship', 'race', 'gender', 'capital-gain', 'capital-loss', 'hours-per-week', 'native-country', 'income']\n"
          ]
        }
      ]
    },
    {
      "cell_type": "markdown",
      "source": [
        "# 3. Data Preprocessing"
      ],
      "metadata": {
        "id": "V-H6P9v5Z6TB"
      }
    },
    {
      "cell_type": "code",
      "source": [
        "# Handle missing values\n",
        "data = data.na_omit()  # Alternatively: Use h2o.impute for imputation\n",
        "\n",
        "# Set target and features\n",
        "y = \"income\"  # target column\n",
        "x = [col for col in data.columns if col != y]\n",
        "\n",
        "# Convert categorical features to factors\n",
        "for col in data.columns:\n",
        "    if data[col].isfactor()[0] or data[col].ischaracter()[0]:\n",
        "        data[col] = data[col].asfactor()\n"
      ],
      "metadata": {
        "id": "VYSfYaK8Z68r"
      },
      "execution_count": 3,
      "outputs": []
    },
    {
      "cell_type": "markdown",
      "source": [
        "# 4. Train-Test Split"
      ],
      "metadata": {
        "id": "zCXS5cApaEIN"
      }
    },
    {
      "cell_type": "code",
      "source": [
        "# Split into train/test sets\n",
        "train, test = data.split_frame(ratios=[0.8], seed=42)\n"
      ],
      "metadata": {
        "id": "P7xNJaCYaCK3"
      },
      "execution_count": 4,
      "outputs": []
    },
    {
      "cell_type": "markdown",
      "source": [
        "# 5. Model Building"
      ],
      "metadata": {
        "id": "IpIqG4owaI1n"
      }
    },
    {
      "cell_type": "code",
      "source": [
        "# Define models\n",
        "rf_model = H2ORandomForestEstimator(seed=42)\n",
        "gbm_model = H2OGradientBoostingEstimator(seed=42)\n",
        "dl_model = H2ODeepLearningEstimator(seed=42)\n",
        "glm_model = H2OGeneralizedLinearEstimator(family=\"binomial\")\n",
        "\n",
        "# Train models\n",
        "for model in [rf_model, gbm_model, dl_model, glm_model]:\n",
        "    model.train(x=x, y=y, training_frame=train)\n"
      ],
      "metadata": {
        "colab": {
          "base_uri": "https://localhost:8080/"
        },
        "id": "GMXPKQGPaG3p",
        "outputId": "44460ab8-d82a-422f-ce91-97683fc7503d"
      },
      "execution_count": 5,
      "outputs": [
        {
          "output_type": "stream",
          "name": "stdout",
          "text": [
            "drf Model Build progress: |██████████████████████████████████████████████████████| (done) 100%\n",
            "gbm Model Build progress: |██████████████████████████████████████████████████████| (done) 100%\n",
            "deeplearning Model Build progress: |█████████████████████████████████████████████| (done) 100%\n",
            "glm Model Build progress: |██████████████████████████████████████████████████████| (done) 100%\n"
          ]
        }
      ]
    },
    {
      "cell_type": "markdown",
      "source": [
        "# 6. Model Evaluation"
      ],
      "metadata": {
        "id": "IVvc2bOSaMuu"
      }
    },
    {
      "cell_type": "code",
      "source": [
        "# Evaluation function\n",
        "def evaluate_model(model, test_data):\n",
        "    perf = model.model_performance(test_data)\n",
        "    accuracy = perf.accuracy()[0][1]\n",
        "    auc = perf.auc()\n",
        "    precision = perf.precision()[0][1]\n",
        "    recall = perf.recall()[0][1]\n",
        "    cm = perf.confusion_matrix()\n",
        "    return accuracy, auc, precision, recall, cm\n"
      ],
      "metadata": {
        "id": "BXk5GijwaK9v"
      },
      "execution_count": 6,
      "outputs": []
    },
    {
      "cell_type": "code",
      "source": [
        "# Evaluate and compare models\n",
        "models = [rf_model, gbm_model, dl_model, glm_model]\n",
        "model_names = ['Random Forest', 'Gradient Boosting', 'Deep Learning', 'Logistic Regression']\n",
        "accuracies, aucs, precisions, recalls = [], [], [], []\n",
        "\n",
        "for model, name in zip(models, model_names):\n",
        "    accuracy, auc, precision, recall, cm = evaluate_model(model, test)\n",
        "    accuracies.append(accuracy)\n",
        "    aucs.append(auc)\n",
        "    precisions.append(precision)\n",
        "    recalls.append(recall)\n",
        "\n",
        "    print(f\"\\nModel: {name}\")\n",
        "    print(f\"Accuracy: {accuracy:.4f}\")\n",
        "    print(f\"AUC: {auc:.4f}\")\n",
        "    print(f\"Precision: {precision:.4f}\")\n",
        "    print(f\"Recall: {recall:.4f}\")\n",
        "    print(\"Confusion Matrix:\")\n",
        "    print(cm)\n"
      ],
      "metadata": {
        "colab": {
          "base_uri": "https://localhost:8080/"
        },
        "id": "urDtKhH6aPkq",
        "outputId": "0f189eac-cdf9-42b8-da11-5ecc4b79cedd"
      },
      "execution_count": 7,
      "outputs": [
        {
          "output_type": "stream",
          "name": "stdout",
          "text": [
            "\n",
            "Model: Random Forest\n",
            "Accuracy: 0.8632\n",
            "AUC: 0.9186\n",
            "Precision: 1.0000\n",
            "Recall: 1.0000\n",
            "Confusion Matrix:\n",
            "Confusion Matrix (Act/Pred) for max f1 @ threshold = 0.3430606263577938\n",
            "       <=50K    >50K    Error    Rate\n",
            "-----  -------  ------  -------  ---------------\n",
            "<=50K  6411     964     0.1307   (964.0/7375.0)\n",
            ">50K   533      1806    0.2279   (533.0/2339.0)\n",
            "Total  6944     2770    0.1541   (1497.0/9714.0)\n",
            "\n",
            "Model: Gradient Boosting\n",
            "Accuracy: 0.8668\n",
            "AUC: 0.9257\n",
            "Precision: 1.0000\n",
            "Recall: 1.0000\n",
            "Confusion Matrix:\n",
            "Confusion Matrix (Act/Pred) for max f1 @ threshold = 0.29004139461308975\n",
            "       <=50K    >50K    Error    Rate\n",
            "-----  -------  ------  -------  ---------------\n",
            "<=50K  6349     1026    0.1391   (1026.0/7375.0)\n",
            ">50K   429      1910    0.1834   (429.0/2339.0)\n",
            "Total  6778     2936    0.1498   (1455.0/9714.0)\n",
            "\n",
            "Model: Deep Learning\n",
            "Accuracy: 0.8569\n",
            "AUC: 0.9138\n",
            "Precision: 0.9890\n",
            "Recall: 1.0000\n",
            "Confusion Matrix:\n",
            "Confusion Matrix (Act/Pred) for max f1 @ threshold = 0.29841456351728873\n",
            "       <=50K    >50K    Error    Rate\n",
            "-----  -------  ------  -------  ---------------\n",
            "<=50K  6282     1093    0.1482   (1093.0/7375.0)\n",
            ">50K   480      1859    0.2052   (480.0/2339.0)\n",
            "Total  6762     2952    0.1619   (1573.0/9714.0)\n",
            "\n",
            "Model: Logistic Regression\n",
            "Accuracy: 0.8483\n",
            "AUC: 0.9070\n",
            "Precision: 0.9841\n",
            "Recall: 1.0000\n",
            "Confusion Matrix:\n",
            "Confusion Matrix (Act/Pred) for max f1 @ threshold = 0.3162356203936844\n",
            "       <=50K    >50K    Error    Rate\n",
            "-----  -------  ------  -------  ---------------\n",
            "<=50K  6317     1058    0.1435   (1058.0/7375.0)\n",
            ">50K   548      1791    0.2343   (548.0/2339.0)\n",
            "Total  6865     2849    0.1653   (1606.0/9714.0)\n"
          ]
        }
      ]
    },
    {
      "cell_type": "markdown",
      "source": [
        "# 7. Plotting Model Comparison"
      ],
      "metadata": {
        "id": "kJJ0lV4UaUjv"
      }
    },
    {
      "cell_type": "code",
      "source": [
        "# Plot Accuracy vs AUC vs Precision vs Recall\n",
        "plt.figure(figsize=(10, 6))\n",
        "bar_width = 0.2\n",
        "index = range(len(model_names))\n",
        "\n",
        "plt.bar(index, accuracies, bar_width, label='Accuracy')\n",
        "plt.bar([i + bar_width for i in index], aucs, bar_width, label='AUC')\n",
        "plt.bar([i + 2 * bar_width for i in index], precisions, bar_width, label='Precision')\n",
        "plt.bar([i + 3 * bar_width for i in index], recalls, bar_width, label='Recall')\n",
        "\n",
        "plt.xlabel('Model')\n",
        "plt.ylabel('Score')\n",
        "plt.title('Model Comparison')\n",
        "plt.xticks([i + 1.5 * bar_width for i in index], model_names)\n",
        "plt.legend()\n",
        "plt.tight_layout()\n",
        "plt.show()\n"
      ],
      "metadata": {
        "colab": {
          "base_uri": "https://localhost:8080/",
          "height": 607
        },
        "id": "K_KiO90saRP7",
        "outputId": "5cc89a4e-7831-4101-c335-6ad7d1952e0c"
      },
      "execution_count": 8,
      "outputs": [
        {
          "output_type": "display_data",
          "data": {
            "text/plain": [
              "<Figure size 1000x600 with 1 Axes>"
            ],
            "image/png": "[encoded data removed]"
          },
          "metadata": {}
        }
      ]
    },
    {
      "cell_type": "markdown",
      "source": [
        "# 8. Identify Best Model & Feature Importance"
      ],
      "metadata": {
        "id": "ZVC77r47aY9u"
      }
    },
    {
      "cell_type": "code",
      "source": [
        "# Best model based on accuracy\n",
        "best_model_index = accuracies.index(max(accuracies))\n",
        "best_model = models[best_model_index]\n",
        "print(f\"\\nBest Model: {model_names[best_model_index]}\")\n"
      ],
      "metadata": {
        "colab": {
          "base_uri": "https://localhost:8080/"
        },
        "id": "5KMm3tq-aWd_",
        "outputId": "42778087-518f-490c-d99a-f779be57b5f1"
      },
      "execution_count": 9,
      "outputs": [
        {
          "output_type": "stream",
          "name": "stdout",
          "text": [
            "\n",
            "Best Model: Gradient Boosting\n"
          ]
        }
      ]
    },
    {
      "cell_type": "code",
      "source": [
        "# Show feature importance\n",
        "if hasattr(best_model, 'varimp'):\n",
        "    feature_importance = best_model.varimp(use_pandas=True)\n",
        "    print(\"\\nFeature Importance:\")\n",
        "    print(feature_importance)\n",
        "    best_model.plot()\n"
      ],
      "metadata": {
        "colab": {
          "base_uri": "https://localhost:8080/",
          "height": 767
        },
        "id": "ANXEMzQjabQ9",
        "outputId": "9bf9412f-2d20-4521-dbfe-3b16d51e5b1e"
      },
      "execution_count": 10,
      "outputs": [
        {
          "output_type": "stream",
          "name": "stdout",
          "text": [
            "\n",
            "Feature Importance:\n",
            "           variable  relative_importance  scaled_importance  percentage\n",
            "0      relationship          5088.340820           1.000000    0.261319\n",
            "1      capital-gain          3867.865234           0.760143    0.198640\n",
            "2         education          3125.819824           0.614310    0.160531\n",
            "3    marital-status          2476.487305           0.486698    0.127183\n",
            "4        occupation          1867.033569           0.366924    0.095884\n",
            "5      capital-loss          1126.741943           0.221436    0.057865\n",
            "6               age           905.520996           0.177960    0.046504\n",
            "7    hours-per-week           542.394592           0.106596    0.027855\n",
            "8    native-country           203.168015           0.039928    0.010434\n",
            "9         workclass           163.848358           0.032201    0.008415\n",
            "10           gender            63.231400           0.012427    0.003247\n",
            "11           fnlwgt            36.774559           0.007227    0.001889\n",
            "12             race             4.268698           0.000839    0.000219\n",
            "13  educational-num             0.272164           0.000053    0.000014\n"
          ]
        },
        {
          "output_type": "display_data",
          "data": {
            "text/plain": [
              "<Figure size 640x480 with 1 Axes>"
            ],
            "image/png": "[encoded data removed]"
          },
          "metadata": {}
        }
      ]
    },
    {
      "cell_type": "code",
      "source": [
        "# Simple discussion of top features\n",
        "print(\"\\nFeature Importance Discussion:\")\n",
        "print(f\"The most important features in predicting '{y}' were: {', '.join(feature_importance['variable'].head(3))}.\")\n",
        "print(\"These features likely have strong predictive power due to their direct correlation with income levels, such as education, occupation, and hours per week worked.\")\n"
      ],
      "metadata": {
        "colab": {
          "base_uri": "https://localhost:8080/"
        },
        "id": "vq02WbPQacxK",
        "outputId": "e2ae4414-fb63-4781-e502-6ec6c9958147"
      },
      "execution_count": 11,
      "outputs": [
        {
          "output_type": "stream",
          "name": "stdout",
          "text": [
            "\n",
            "Feature Importance Discussion:\n",
            "The most important features in predicting 'income' were: relationship, capital-gain, education.\n",
            "These features likely have strong predictive power due to their direct correlation with income levels, such as education, occupation, and hours per week worked.\n"
          ]
        }
      ]
    }
  ]
}